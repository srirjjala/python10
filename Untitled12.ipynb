{
 "cells": [
  {
   "cell_type": "code",
   "execution_count": 8,
   "id": "6e11f1ce",
   "metadata": {},
   "outputs": [
    {
     "name": "stdout",
     "output_type": "stream",
     "text": [
      "Enter the string: amma\n",
      "Frequency of characters:\n",
      "a: 2\n",
      "m: 2\n",
      "The character with the maximum frequency is 'a' with a frequency of 2.\n"
     ]
    }
   ],
   "source": [
    "s = input(\"Enter the string: \")\n",
    "j = list(s)\n",
    "frequency = {}\n",
    "for i in j:\n",
    "    if i in frequency:\n",
    "        frequency[i] += 1\n",
    "    else:\n",
    "        frequency[i]=1\n",
    "max_char = \"\"\n",
    "max_freq = 0\n",
    "\n",
    "for key, value in frequency.items():\n",
    "    if value > max_freq:\n",
    "        max_freq = value\n",
    "        max_char = key\n",
    "\n",
    "print(\"Frequency of characters:\")\n",
    "for key, value in frequency.items():\n",
    "    print(f\"{key}: {value}\")\n",
    "\n",
    "print(f\"The character with the maximum frequency is '{max_char}' with a frequency of {max_freq}.\")\n",
    "\n"
   ]
  },
  {
   "cell_type": "code",
   "execution_count": 11,
   "id": "3e9cdef1",
   "metadata": {
    "scrolled": true
   },
   "outputs": [
    {
     "name": "stdout",
     "output_type": "stream",
     "text": [
      "Enter the string: nanaamma\n",
      "Enter the new word to replace the character with maximum frequency: t\n",
      "Frequency of characters:\n",
      "n: 2\n",
      "a: 4\n",
      "m: 2\n",
      "The character with the maximum frequency is 'a' with a frequency of 4.\n",
      "Original string: nanaamma\n",
      "Modified string: ntnttmmt\n"
     ]
    }
   ],
   "source": [
    "s = input(\"Enter the string: \")\n",
    "new_word = input(\"Enter the new word to replace the character with maximum frequency: \")\n",
    "j = list(s)\n",
    "frequency = {}\n",
    "for i in j:\n",
    "    if i in frequency:\n",
    "        frequency[i] += 1\n",
    "    else:\n",
    "        frequency[i] = 1\n",
    "max_char = \"\"\n",
    "max_freq = 0\n",
    "\n",
    "for key, value in frequency.items():\n",
    "    if value > max_freq:\n",
    "        max_freq = value\n",
    "        max_char = key\n",
    "\n",
    "print(\"Frequency of characters:\")\n",
    "for key, value in frequency.items():\n",
    "    print(f\"{key}: {value}\")\n",
    "\n",
    "print(f\"The character with the maximum frequency is '{max_char}' with a frequency of {max_freq}.\")\n",
    "replaced_string = s.replace(max_char, new_word)\n",
    "\n",
    "print(f\"Original string: {s}\")\n",
    "print(f\"Modified string: {replaced_string}\")\n"
   ]
  },
  {
   "cell_type": "code",
   "execution_count": null,
   "id": "4e1b5350",
   "metadata": {},
   "outputs": [],
   "source": []
  },
  {
   "cell_type": "code",
   "execution_count": null,
   "id": "9baf775f",
   "metadata": {},
   "outputs": [],
   "source": []
  }
 ],
 "metadata": {
  "kernelspec": {
   "display_name": "Python 3 (ipykernel)",
   "language": "python",
   "name": "python3"
  },
  "language_info": {
   "codemirror_mode": {
    "name": "ipython",
    "version": 3
   },
   "file_extension": ".py",
   "mimetype": "text/x-python",
   "name": "python",
   "nbconvert_exporter": "python",
   "pygments_lexer": "ipython3",
   "version": "3.11.5"
  }
 },
 "nbformat": 4,
 "nbformat_minor": 5
}
